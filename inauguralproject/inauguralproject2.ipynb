{
 "cells": [
  {
   "cell_type": "markdown",
   "metadata": {},
   "source": [
    "# Inaugural Project"
   ]
  },
  {
   "cell_type": "markdown",
   "metadata": {},
   "source": [
    "> **Note the following:** \n",
    "> 1. This is an example of how to structure your **inaugural project**.\n",
    "> 1. Remember the general advice on structuring and commenting your code from [lecture 5](https://numeconcopenhagen.netlify.com/lectures/Workflow_and_debugging).\n",
    "> 1. Remember this [guide](https://www.markdownguide.org/basic-syntax/) on markdown and (a bit of) latex.\n",
    "> 1. Turn on automatic numbering by clicking on the small icon on top of the table of contents in the left sidebar.\n",
    "> 1. The `inauguralproject.py` file includes a function which can be used multiple times in this notebook."
   ]
  },
  {
   "cell_type": "markdown",
   "metadata": {},
   "source": [
    "Imports and set magics:"
   ]
  },
  {
   "cell_type": "code",
   "execution_count": 1,
   "metadata": {},
   "outputs": [],
   "source": [
    "import numpy as np\n",
    "from scipy import optimize\n",
    "import matplotlib.pyplot as plt"
   ]
  },
  {
   "cell_type": "markdown",
   "metadata": {
    "toc-hr-collapsed": true
   },
   "source": [
    "# Question 1"
   ]
  },
  {
   "cell_type": "markdown",
   "metadata": {},
   "source": [
    "We start by importing the Python packages which we will apply throughout the exercise. To construct the model which solves equestion (1), we define a consumption (c=x)  as a function of labor (l) with parameters as given (w=1, m=1,v=10,t0=.4,t1=.1,k=.4). Using that funktion we define the utility function which we optimize with respect to labor supply.  "
   ]
  },
  {
   "cell_type": "code",
   "execution_count": 1,
   "metadata": {},
   "outputs": [
    {
     "name": "stdout",
     "output_type": "stream",
     "text": "w = 1.00\nl = 0.40000068\nc = 1.24\nu  = 0.17\ne  = 0.30\n"
    }
   ],
   "source": [
    "# Define initial parameters that are subject to change\n",
    "w=1\n",
    "e=0.3\n",
    "\n",
    "def c_func(l,w,m=1,v=10,t0=.4,t1=.1,k=.4):\n",
    "    return m+w*l-t0*w*l-t1*max(w*l-k,0)\n",
    "\n",
    "def u_func(l,c,w,e,m=1,v=10,t0=.4,t1=.1,k=.4):\n",
    "    return np.log(c)-v*l**(1+1/e)/(1+1/e)\n",
    "\n",
    "# Solver\n",
    "def value_of_choice(l,w,e,m=1,v=10,t0=.4,t1=.1,k=.4):\n",
    "    c = c_func(l,w)\n",
    "    return -u_func(l,c,w,e)\n",
    "\n",
    "# b. call solver\n",
    "sol_case1 = optimize.minimize_scalar(value_of_choice,\n",
    "    method='bounded',\n",
    "    bounds=(0,1),args=(w,e))\n",
    "\n",
    "# c. unpack solution\n",
    "l = sol_case1.x\n",
    "c = c_func(l,w)\n",
    "u = u_func(l,c,w,e)\n",
    "# d. print\n",
    "def print_solution(l,c,w,u,e):\n",
    "    print(f'w = {w:.2f}')\n",
    "    print(f'l = {l:.8f}')\n",
    "    print(f'c = {c:.2f}')\n",
    "    print(f'u  = {u:.2f}')\n",
    "    print(f'e  = {e:.2f}')\n",
    "\n",
    "print_solution(l,c,w,u,e)\n"
   ]
  },
  {
   "cell_type": "markdown",
   "metadata": {},
   "source": [
    "# Question 2"
   ]
  },
  {
   "cell_type": "markdown",
   "metadata": {},
   "source": [
    "To plot labor and consumption with different values of wage, we loop over the interval [0.5-1.5] using np.linespace with 100 points. Afterward we solve equation (1) with the 100 different assigned values of wage (w). Finelly we plot this by using the matplotlib package.  "
   ]
  },
  {
   "cell_type": "code",
   "execution_count": 3,
   "metadata": {},
   "outputs": [],
   "source": [
    "  # Optimal choice as function of wage\n",
    "l_values = []\n",
    "c_values = []\n",
    "w_values = []\n",
    "\n",
    "for i in np.linspace(0.5,1.5,100):\n",
    "    w = i\n",
    "\n",
    "    sol_case1 = optimize.minimize_scalar(value_of_choice,\n",
    "    method='bounded',\n",
    "    bounds=(0,1),args=(w,e))\n",
    "    \n",
    "    w_values.append(i)\n",
    "    l_values.append(sol_case1.x)\n",
    "    c_values.append(c_func(sol_case1.x,i))\n",
    "\n",
    "    #print_solution(sol_case1.x,c_func(sol_case1.x,i),w,u,e)\n",
    "\n",
    "c_values\n",
    "l_values\n",
    "w_values\n",
    "#############################################################\n",
    "# Figure\n",
    "\n",
    "plt.style.use(\"seaborn\")\n",
    "\n",
    "# a. create the figure\n",
    "fig = plt.figure(figsize=(10,4))\n",
    "\n",
    "# c. left plot\n",
    "ax_left = fig.add_subplot(1,2,1)\n",
    "\n",
    "ax_left.plot(w_values,l_values)\n",
    "\n",
    "ax_left.set_title('Optimal level of labor given wage')\n",
    "ax_left.set_xlabel('Wage (w)')\n",
    "ax_left.set_ylabel('Labor (l)')\n",
    "ax_left.grid(True)\n",
    "\n",
    "# c. right plot\n",
    "ax_right = fig.add_subplot(1,2,2)\n",
    "\n",
    "ax_right.plot(w_values,c_values)\n",
    "\n",
    "ax_right.set_title('Optimal level of consumption given wage')\n",
    "ax_right.set_xlabel('Wage (w)')\n",
    "ax_right.set_ylabel('Consumption (c)')\n",
    "ax_right.grid(True)\n",
    "\n",
    "plt.show()"
   ]
  },
  {
   "cell_type": "markdown",
   "metadata": {},
   "source": [
    "# Question 3"
   ]
  },
  {
   "cell_type": "markdown",
   "metadata": {},
   "source": [
    "To include the population and distribution of wage in the tax revenue function. We start by looping over 10.000 in population where their wage is drawn from a uniform distribution. With this we solve each individual utility maximization problem. From the solution we extract each individual tax contribution and aggregate. From this we get the total tax revenue in the population which is 1552.225. \n"
   ]
  },
  {
   "cell_type": "code",
   "execution_count": null,
   "metadata": {},
   "outputs": [],
   "source": [
    "# Random draw\n",
    "np.random.seed(2000)\n",
    "l_i = []\n",
    "c_i = []\n",
    "w_i = []\n",
    "\n",
    "for i in range(10000):\n",
    "    w = np.random.uniform(low=0.5,high=1.5)\n",
    "\n",
    "    sol_case1 = optimize.minimize_scalar(value_of_choice,\n",
    "    method='bounded',\n",
    "    bounds=(0,1),args=(w,e))\n",
    "    \n",
    "    w_i.append(w)\n",
    "    l_i.append(sol_case1.x)\n",
    "    c_i.append(c_func(sol_case1.x,w))\n",
    "\n",
    "def tax_func(w,l,c,t0=.4,t1=.1,k=.4):\n",
    "    return t0*w*l+t1*np.max(w*l-k,0)\n",
    "\n",
    "tax_revenue = 0\n",
    "for i in range(10000):\n",
    "    tax_revenue += tax_func(w_i[i],l_i[i],c_i[i])\n",
    "print(f'Tax revenue = {tax_revenue:.3f}')"
   ]
  },
  {
   "cell_type": "markdown",
   "metadata": {},
   "source": [
    "# Question 4"
   ]
  },
  {
   "cell_type": "markdown",
   "metadata": {},
   "source": [
    "We use the same procedure as we did in problem 3. The only difference is that we use e=0.1 to find the individuals utility maximization. \n",
    "\n",
    "Now we have that the total tax revenue is 3179.908577. Hence we have a higher tax revenue when e is smaller. "
   ]
  },
  {
   "cell_type": "code",
   "execution_count": 5,
   "metadata": {},
   "outputs": [],
   "source": [
    "# Random draw II\n",
    "np.random.seed(2000)\n",
    "l_i = []\n",
    "c_i = []\n",
    "w_i = []\n",
    "\n",
    "for i in range(10000):\n",
    "    w = np.random.uniform(low=0.5,high=1.5)\n",
    "    e = 0.1\n",
    "    sol_case1 = optimize.minimize_scalar(value_of_choice,\n",
    "    method='bounded',\n",
    "    bounds=(0,1),args=(w,e))\n",
    "    \n",
    "    w_i.append(w)\n",
    "    l_i.append(sol_case1.x)\n",
    "    c_i.append(c_func(sol_case1.x,w))\n",
    "\n",
    "def tax_func(w,l,c,t0=.4,t1=.1,k=.4):\n",
    "    return t0*w*l+t1*np.max(w*l-k,0)\n",
    "\n",
    "tax_revenue2 = 0\n",
    "for i in range(10000):\n",
    "    tax_revenue2 += tax_func(w_i[i],l_i[i],c_i[i])\n",
    "\n",
    "print(f'Tax revenue (1)= {tax_revenue:.6f}')\n",
    "print(f'Tax revenue (2)= {tax_revenue2:.6f}')"
   ]
  },
  {
   "cell_type": "markdown",
   "metadata": {},
   "source": [
    "# Question 5"
   ]
  },
  {
   "cell_type": "markdown",
   "metadata": {},
   "source": [
    "ADD ANSWER."
   ]
  },
  {
   "cell_type": "code",
   "execution_count": 6,
   "metadata": {},
   "outputs": [],
   "source": [
    "# code"
   ]
  },
  {
   "cell_type": "markdown",
   "metadata": {},
   "source": [
    "# Conclusion"
   ]
  },
  {
   "cell_type": "markdown",
   "metadata": {},
   "source": [
    "ADD CONCISE CONLUSION."
   ]
  }
 ],
 "metadata": {
  "kernelspec": {
   "display_name": "Python 3",
   "language": "python",
   "name": "python3"
  },
  "language_info": {
   "codemirror_mode": {
    "name": "ipython",
    "version": 3
   },
   "file_extension": ".py",
   "mimetype": "text/x-python",
   "name": "python",
   "nbconvert_exporter": "python",
   "pygments_lexer": "ipython3",
   "version": "3.7.4-final"
  },
  "toc-autonumbering": true
 },
 "nbformat": 4,
 "nbformat_minor": 4
}